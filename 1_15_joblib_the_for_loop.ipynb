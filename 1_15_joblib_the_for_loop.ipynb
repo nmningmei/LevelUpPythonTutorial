{
  "nbformat": 4,
  "nbformat_minor": 0,
  "metadata": {
    "colab": {
      "name": "1.15.joblib the for loop.ipynb",
      "provenance": [],
      "authorship_tag": "ABX9TyPyNk8x7vWSRL8aAJhQcxkk",
      "include_colab_link": true
    },
    "kernelspec": {
      "name": "python3",
      "display_name": "Python 3"
    },
    "language_info": {
      "name": "python"
    }
  },
  "cells": [
    {
      "cell_type": "markdown",
      "metadata": {
        "id": "view-in-github",
        "colab_type": "text"
      },
      "source": [
        "<a href=\"https://colab.research.google.com/github/nmningmei/LevelUpPythonTutorial/blob/master/1_15_joblib_the_for_loop.ipynb\" target=\"_parent\"><img src=\"https://colab.research.google.com/assets/colab-badge.svg\" alt=\"Open In Colab\"/></a>"
      ]
    },
    {
      "cell_type": "markdown",
      "source": [
        "# This tutorial is **NOT** telling you to parallelize all your for-loops, and that is impossible, but this tutorial is to show you have to parallelize your simple processes in a for-loop to speed up things, such as the resamplings in the bootstrapping statistics."
      ],
      "metadata": {
        "id": "R70KiXAlwdO6"
      }
    },
    {
      "cell_type": "code",
      "execution_count": 73,
      "metadata": {
        "id": "qH-NZ3JOvtHx"
      },
      "outputs": [],
      "source": [
        "import numpy as np\n",
        "from scipy import stats\n",
        "from tqdm import tqdm\n",
        "from matplotlib import pyplot as plt"
      ]
    },
    {
      "cell_type": "code",
      "source": [
        "n_permutations = int(1e4)"
      ],
      "metadata": {
        "id": "ahPLGRxazC2J"
      },
      "execution_count": 74,
      "outputs": []
    },
    {
      "cell_type": "markdown",
      "source": [
        "# Let's create 2 samples for a comparison test."
      ],
      "metadata": {
        "id": "HWuu_92HxDWM"
      }
    },
    {
      "cell_type": "code",
      "source": [
        "p = 1.0\n",
        "iterator = tqdm(range(int(1e5)))\n",
        "for _ in iterator:\n",
        "    a = np.random.normal(loc = 0.0, scale = 1.0, size = 25)\n",
        "    b = np.random.normal(loc = 0.1, scale = 1.1, size = 20)\n",
        "    t,p = stats.ttest_ind(a,b,equal_var = False)\n",
        "    iterator.set_description(f't(44) = {t:.4f},p = {p:.4f}')\n",
        "    if 0.04 <= p <= 0.05:\n",
        "        break"
      ],
      "metadata": {
        "colab": {
          "base_uri": "https://localhost:8080/"
        },
        "id": "F2PQhxd4xBz0",
        "outputId": "c4018ebe-b5ee-4500-bc52-8e1cede08c24"
      },
      "execution_count": 75,
      "outputs": [
        {
          "output_type": "stream",
          "name": "stderr",
          "text": [
            "t(44) = -2.0715,p = 0.0445:   0%|          | 41/100000 [00:00<04:22, 381.37it/s]\n"
          ]
        }
      ]
    },
    {
      "cell_type": "markdown",
      "source": [
        "# Let's visualize the data"
      ],
      "metadata": {
        "id": "9-9bHj4MycmU"
      }
    },
    {
      "cell_type": "code",
      "source": [
        "fig,ax = plt.subplots(figsize = (8,4))\n",
        "ax.hist(a,label = 'data a',alpha = .5)\n",
        "ax.hist(b,label = 'data b',alpha = .5)\n",
        "ax.legend(loc = 'best')"
      ],
      "metadata": {
        "colab": {
          "base_uri": "https://localhost:8080/",
          "height": 282
        },
        "id": "WFGAefeNxzaY",
        "outputId": "a980aa81-e697-4488-f0f7-b3b463be1ec2"
      },
      "execution_count": 76,
      "outputs": [
        {
          "output_type": "execute_result",
          "data": {
            "text/plain": [
              "<matplotlib.legend.Legend at 0x7f064145e9d0>"
            ]
          },
          "metadata": {},
          "execution_count": 76
        },
        {
          "output_type": "display_data",
          "data": {
            "image/png": "[encoded data removed]",
            "text/plain": [
              "<Figure size 576x288 with 1 Axes>"
            ]
          },
          "metadata": {
            "needs_background": "light"
          }
        }
      ]
    },
    {
      "cell_type": "markdown",
      "source": [
        "# First we estimate the mean and standard deviation of the samples using resampling method"
      ],
      "metadata": {
        "id": "26fNGA4Zy66X"
      }
    },
    {
      "cell_type": "code",
      "source": [
        "%%timeit\n",
        "iterator = tqdm(range(n_permutations))\n",
        "mean_a,std_a = [],[]\n",
        "for _ in iterator:\n",
        "    a_sampled = np.random.choice(a,size = a.shape[0],replace = True)\n",
        "    mean_a.append(a_sampled.mean())\n",
        "    std_a.append(a_sampled.std())\n",
        "mean_a = np.array(mean_a)\n",
        "std_a = np.array(std_a)"
      ],
      "metadata": {
        "colab": {
          "base_uri": "https://localhost:8080/"
        },
        "id": "1TNnY9JTyofn",
        "outputId": "c40b2ad9-a16c-4967-f251-6e1b0a7b832e"
      },
      "execution_count": 77,
      "outputs": [
        {
          "output_type": "stream",
          "name": "stderr",
          "text": [
            "100%|██████████| 10000/10000 [00:00<00:00, 10498.40it/s]\n",
            "100%|██████████| 10000/10000 [00:00<00:00, 15355.58it/s]\n",
            "100%|██████████| 10000/10000 [00:00<00:00, 11260.70it/s]\n",
            "100%|██████████| 10000/10000 [00:00<00:00, 14961.48it/s]\n",
            "100%|██████████| 10000/10000 [00:00<00:00, 11562.36it/s]\n",
            "100%|██████████| 10000/10000 [00:00<00:00, 11671.05it/s]"
          ]
        },
        {
          "output_type": "stream",
          "name": "stdout",
          "text": [
            "1 loop, best of 5: 664 ms per loop\n"
          ]
        },
        {
          "output_type": "stream",
          "name": "stderr",
          "text": [
            "\n"
          ]
        }
      ]
    },
    {
      "cell_type": "code",
      "source": [
        "iterator = tqdm(range(n_permutations))\n",
        "mean_a,std_a = [],[]\n",
        "for _ in iterator:\n",
        "    a_sampled = np.random.choice(a,size = a.shape[0],replace = True)\n",
        "    mean_a.append(a_sampled.mean())\n",
        "    std_a.append(a_sampled.std())\n",
        "mean_a = np.array(mean_a)\n",
        "std_a = np.array(std_a)"
      ],
      "metadata": {
        "colab": {
          "base_uri": "https://localhost:8080/"
        },
        "id": "E5nf1hkyz1wP",
        "outputId": "cd5bb377-e2b9-4865-b102-fe008a9f3487"
      },
      "execution_count": 78,
      "outputs": [
        {
          "output_type": "stream",
          "name": "stderr",
          "text": [
            "100%|██████████| 10000/10000 [00:00<00:00, 13337.70it/s]\n"
          ]
        }
      ]
    },
    {
      "cell_type": "code",
      "source": [
        "print(f'Direct method: mean = {a.mean():.4f}, std = {a.std():.4f}\\nResampling method: mean = {mean_a.mean():.4f}, se = {std_a.mean():.4f}')"
      ],
      "metadata": {
        "colab": {
          "base_uri": "https://localhost:8080/"
        },
        "id": "SrVoUgi5zgCi",
        "outputId": "c97642d6-e658-45ee-fd64-a21fb1709560"
      },
      "execution_count": 79,
      "outputs": [
        {
          "output_type": "stream",
          "name": "stdout",
          "text": [
            "Direct method: mean = -0.1146, std = 1.0733\n",
            "Resampling method: mean = -0.1133, se = 1.0472\n"
          ]
        }
      ]
    },
    {
      "cell_type": "code",
      "source": [
        "fig,ax = plt.subplots(figsize = (8,4))\n",
        "ax.axvline(a.mean(),label = 'mean(a)')\n",
        "ax.hist(mean_a,label = 'mean(resampled a)',alpha = .5,density = True)\n",
        "ax.legend()"
      ],
      "metadata": {
        "colab": {
          "base_uri": "https://localhost:8080/",
          "height": 282
        },
        "id": "5e4gkwlIzy_Q",
        "outputId": "bd0b5d71-7525-4909-852c-0ab5cc1eedd6"
      },
      "execution_count": 80,
      "outputs": [
        {
          "output_type": "execute_result",
          "data": {
            "text/plain": [
              "<matplotlib.legend.Legend at 0x7f06412defd0>"
            ]
          },
          "metadata": {},
          "execution_count": 80
        },
        {
          "output_type": "display_data",
          "data": {
            "image/png": "[encoded data removed]",
            "text/plain": [
              "<Figure size 576x288 with 1 Axes>"
            ]
          },
          "metadata": {
            "needs_background": "light"
          }
        }
      ]
    },
    {
      "cell_type": "markdown",
      "source": [
        "# We can try to speed up the resampling since the samples are independent and sampled with replacement"
      ],
      "metadata": {
        "id": "KTvbY4yl00nl"
      }
    },
    {
      "cell_type": "code",
      "source": [
        "%%timeit\n",
        "a_resampled = np.random.choice(a,size = (n_permutations,a.shape[0]),replace = True)\n",
        "mean_a = a_resampled.mean(1)\n",
        "std_a = a_resampled.std(1)"
      ],
      "metadata": {
        "colab": {
          "base_uri": "https://localhost:8080/"
        },
        "id": "8t8_-tnD1n3l",
        "outputId": "33fec6c9-9d3e-4a1a-e3e4-5eeb78e6bcdb"
      },
      "execution_count": 81,
      "outputs": [
        {
          "output_type": "stream",
          "name": "stdout",
          "text": [
            "100 loops, best of 5: 5.43 ms per loop\n"
          ]
        }
      ]
    },
    {
      "cell_type": "markdown",
      "source": [
        "# Compared to about 873 ms per loop above, we speed up by 155 times."
      ],
      "metadata": {
        "id": "6umXmzNE1zXT"
      }
    },
    {
      "cell_type": "code",
      "source": [
        "a_resampled = np.random.choice(a,size = (n_permutations,a.shape[0]),replace = True)\n",
        "mean_a = a_resampled.mean(1)\n",
        "fig,ax = plt.subplots(figsize = (8,4))\n",
        "ax.axvline(a.mean(),label = 'mean(a)')\n",
        "ax.hist(mean_a,label = 'mean(resampled a)',alpha = .5,density = True)\n",
        "ax.legend()"
      ],
      "metadata": {
        "colab": {
          "base_uri": "https://localhost:8080/",
          "height": 282
        },
        "id": "cyTJ5hWV0LOW",
        "outputId": "9e88eb7c-369b-4591-adc9-f01f3115434f"
      },
      "execution_count": 82,
      "outputs": [
        {
          "output_type": "execute_result",
          "data": {
            "text/plain": [
              "<matplotlib.legend.Legend at 0x7f0641208e90>"
            ]
          },
          "metadata": {},
          "execution_count": 82
        },
        {
          "output_type": "display_data",
          "data": {
            "image/png": "[encoded data removed]",
            "text/plain": [
              "<Figure size 576x288 with 1 Axes>"
            ]
          },
          "metadata": {
            "needs_background": "light"
          }
        }
      ]
    },
    {
      "cell_type": "code",
      "source": [
        "print(f'Direct method: mean = {a.mean():.4f}, std = {a.std():.4f}\\nResampling method: mean = {mean_a.mean():.4f}, se = {std_a.mean():.4f}')"
      ],
      "metadata": {
        "colab": {
          "base_uri": "https://localhost:8080/"
        },
        "id": "_IiqMpcp1t72",
        "outputId": "596261fc-1caa-4138-862e-d6d8ac6a0dc8"
      },
      "execution_count": 83,
      "outputs": [
        {
          "output_type": "stream",
          "name": "stdout",
          "text": [
            "Direct method: mean = -0.1146, std = 1.0733\n",
            "Resampling method: mean = -0.1166, se = 1.0472\n"
          ]
        }
      ]
    },
    {
      "cell_type": "markdown",
      "source": [
        "# The basic idea of bootstrapping comparison is to (in this case, we are doing unmatched sample comparison):\n",
        "\n",
        "$$H_0: \\bar{x} = \\bar{y}$$\n",
        "$$H_a: \\bar{x} \\neq \\bar{y}$$\n",
        "\n",
        "1. compare the original data, and store the difference (experiment difference)\n",
        "2. concatenate the data, and then split them into two new groups\n",
        "3. compare the two new groups, and store the diffrence (empirical chances)\n",
        "4. repeat step 2 and 4 for a large amount of times to estimate the distribution of the empirical chance level\n",
        "5. the probability of $H_0$ being true is the proportion of the empirical chance estimates being greater or less than the experiment difference (two-tailed)"
      ],
      "metadata": {
        "id": "ZOoTekT-2IAO"
      }
    },
    {
      "cell_type": "code",
      "source": [
        "%%timeit\n",
        "iterator = tqdm(range(n_permutations))\n",
        "diff = a.mean() - b.mean()\n",
        "concatenated_a_b = np.concatenate([a,b])\n",
        "new_diffs = np.zeros((n_permutations,))\n",
        "for ii in iterator:\n",
        "    new_groups = np.random.choice(concatenated_a_b,size = a.shape[0] + b.shape[0],replace = False)\n",
        "    new_a = new_groups[:a.shape[0]]\n",
        "    new_b = new_groups[a.shape[0]:]\n",
        "    new_diffs[ii] = new_a.mean() - new_b.mean()\n"
      ],
      "metadata": {
        "colab": {
          "base_uri": "https://localhost:8080/"
        },
        "id": "ONomRMwQ1gWJ",
        "outputId": "6ea2a875-007f-4f1f-b24a-b1c95e771e7c"
      },
      "execution_count": 84,
      "outputs": [
        {
          "output_type": "stream",
          "name": "stderr",
          "text": [
            "100%|██████████| 10000/10000 [00:00<00:00, 14927.26it/s]\n",
            "100%|██████████| 10000/10000 [00:00<00:00, 18501.68it/s]\n",
            "100%|██████████| 10000/10000 [00:00<00:00, 16313.62it/s]\n",
            "100%|██████████| 10000/10000 [00:00<00:00, 17341.97it/s]\n",
            "100%|██████████| 10000/10000 [00:00<00:00, 14960.78it/s]\n",
            "100%|██████████| 10000/10000 [00:00<00:00, 14767.26it/s]"
          ]
        },
        {
          "output_type": "stream",
          "name": "stdout",
          "text": [
            "1 loop, best of 5: 555 ms per loop\n"
          ]
        },
        {
          "output_type": "stream",
          "name": "stderr",
          "text": [
            "\n"
          ]
        }
      ]
    },
    {
      "cell_type": "code",
      "source": [
        "iterator = tqdm(range(n_permutations))\n",
        "diff = a.mean() - b.mean()\n",
        "concatenated_a_b = np.concatenate([a,b])\n",
        "new_diffs = np.zeros((n_permutations,))\n",
        "for ii in iterator:\n",
        "    new_groups = np.random.choice(concatenated_a_b,size = a.shape[0] + b.shape[0],replace = False)\n",
        "    new_a = new_groups[:a.shape[0]]\n",
        "    new_b = new_groups[a.shape[0]:]\n",
        "    new_diffs[ii] = new_a.mean() - new_b.mean()\n"
      ],
      "metadata": {
        "colab": {
          "base_uri": "https://localhost:8080/"
        },
        "id": "an2ds60V4LTf",
        "outputId": "778acb22-9f1b-4be2-9cf2-448732560cfc"
      },
      "execution_count": 85,
      "outputs": [
        {
          "output_type": "stream",
          "name": "stderr",
          "text": [
            "100%|██████████| 10000/10000 [00:00<00:00, 24624.78it/s]\n"
          ]
        }
      ]
    },
    {
      "cell_type": "code",
      "source": [
        "# here we add 1 to both the numerator and the denominator to avoid zeros\n",
        "pval = (np.sum(np.abs(new_diffs) >= np.abs(diff)) + 1) / (n_permutations + 1)\n",
        "print(f'p value = {pval:.4f}')"
      ],
      "metadata": {
        "colab": {
          "base_uri": "https://localhost:8080/"
        },
        "id": "ui722aQr4Nqm",
        "outputId": "a771b7dc-52fb-49a1-99cf-48d06136510b"
      },
      "execution_count": 86,
      "outputs": [
        {
          "output_type": "stream",
          "name": "stdout",
          "text": [
            "p value = 0.0537\n"
          ]
        }
      ]
    },
    {
      "cell_type": "markdown",
      "source": [
        "# Because we created a \"boarder line significant\" dataset, the bootstrapping method shows that it is not statistically significant at the 0.05 level."
      ],
      "metadata": {
        "id": "9wukT1Yp5JCv"
      }
    },
    {
      "cell_type": "markdown",
      "source": [
        "# Let's speed up this using Joblib"
      ],
      "metadata": {
        "id": "fSC3wtOc5XG4"
      }
    },
    {
      "cell_type": "code",
      "source": [
        "from joblib import Parallel,delayed"
      ],
      "metadata": {
        "id": "3DXnm4nv40pC"
      },
      "execution_count": 87,
      "outputs": []
    },
    {
      "cell_type": "markdown",
      "source": [
        "## We need to make a function for the processes in the for-loop, like what is computed in one cycle"
      ],
      "metadata": {
        "id": "VYJazGSp5d7y"
      }
    },
    {
      "cell_type": "code",
      "source": [
        "def _process(concatenated_a_b):\n",
        "    new_groups = np.random.choice(concatenated_a_b,size = a.shape[0] + b.shape[0],replace = False)\n",
        "    new_a = new_groups[:a.shape[0]]\n",
        "    new_b = new_groups[a.shape[0]:]\n",
        "    return new_a.mean() - new_b.mean()"
      ],
      "metadata": {
        "id": "8Rg2MFiq5cEV"
      },
      "execution_count": 88,
      "outputs": []
    },
    {
      "cell_type": "code",
      "source": [
        "%%timeit\n",
        "new_diffs_parallelized = Parallel(n_jobs = -1, verbose = 1)(delayed(_process)(**{'concatenated_a_b':concatenated_a_b}) for _ in range(n_permutations))"
      ],
      "metadata": {
        "colab": {
          "base_uri": "https://localhost:8080/"
        },
        "id": "E3HxFDVk6CIT",
        "outputId": "28de256f-b839-43aa-ea5b-ce2fb9f4297c"
      },
      "execution_count": 89,
      "outputs": [
        {
          "output_type": "stream",
          "name": "stderr",
          "text": [
            "[Parallel(n_jobs=-1)]: Using backend LokyBackend with 2 concurrent workers.\n",
            "[Parallel(n_jobs=-1)]: Done 2054 tasks      | elapsed:    1.3s\n",
            "[Parallel(n_jobs=-1)]: Done 10000 out of 10000 | elapsed:    1.9s finished\n",
            "[Parallel(n_jobs=-1)]: Using backend LokyBackend with 2 concurrent workers.\n",
            "[Parallel(n_jobs=-1)]: Done 7434 tasks      | elapsed:    0.6s\n",
            "[Parallel(n_jobs=-1)]: Done 10000 out of 10000 | elapsed:    0.8s finished\n",
            "[Parallel(n_jobs=-1)]: Using backend LokyBackend with 2 concurrent workers.\n",
            "[Parallel(n_jobs=-1)]: Done 7434 tasks      | elapsed:    0.6s\n",
            "[Parallel(n_jobs=-1)]: Done 10000 out of 10000 | elapsed:    0.8s finished\n",
            "[Parallel(n_jobs=-1)]: Using backend LokyBackend with 2 concurrent workers.\n",
            "[Parallel(n_jobs=-1)]: Done 7434 tasks      | elapsed:    0.6s\n",
            "[Parallel(n_jobs=-1)]: Done 10000 out of 10000 | elapsed:    0.8s finished\n",
            "[Parallel(n_jobs=-1)]: Using backend LokyBackend with 2 concurrent workers.\n",
            "[Parallel(n_jobs=-1)]: Done 7434 tasks      | elapsed:    0.7s\n",
            "[Parallel(n_jobs=-1)]: Done 10000 out of 10000 | elapsed:    0.8s finished\n",
            "[Parallel(n_jobs=-1)]: Using backend LokyBackend with 2 concurrent workers.\n"
          ]
        },
        {
          "output_type": "stream",
          "name": "stdout",
          "text": [
            "1 loop, best of 5: 791 ms per loop\n"
          ]
        },
        {
          "output_type": "stream",
          "name": "stderr",
          "text": [
            "[Parallel(n_jobs=-1)]: Done 7434 tasks      | elapsed:    0.7s\n",
            "[Parallel(n_jobs=-1)]: Done 10000 out of 10000 | elapsed:    0.8s finished\n"
          ]
        }
      ]
    },
    {
      "cell_type": "markdown",
      "source": [
        "## Compared to what we had 555 ms, we speed up for 100 times"
      ],
      "metadata": {
        "id": "T3Xzdp6Y6GgA"
      }
    },
    {
      "cell_type": "markdown",
      "source": [
        "## Let's break down what `parallel` and `delayed` did to parallelize the function `_process()`"
      ],
      "metadata": {
        "id": "gMY-WNtB6SXw"
      }
    },
    {
      "cell_type": "markdown",
      "source": [
        "`new_diffs_parallelized = Parallel(n_jobs = -1, verbose = 1)(delayed(_process)(**{'concatenated_a_b':concatenated_a_b}) for _ in range(n_permutations))` is composed by two parts: `parallel()` and `(delayed()() for _ in range())`\n",
        "\n",
        "`(delayed()() for _ in range())` can be seen as the argument calling of the `parallel()` function\n",
        "\n",
        "Like:\n",
        "\n",
        "`f = parallel()`\n",
        "\n",
        "and\n",
        "\n",
        "we call the function `f` by `f(something)`, and the \"something\" is `delayed()() for _ in range()`\n",
        "\n",
        "The same logic goes for `delayed()`, which explains why there are two `()`s after `delayed`.\n",
        "\n",
        "We just need to specify the arguments of the `_process()` function in a dictionary (and use `**` to expand them) or in a list (and use `*` to expand them), (please see xargs for python functions)."
      ],
      "metadata": {
        "id": "jwM_jQus6db-"
      }
    },
    {
      "cell_type": "code",
      "source": [
        ""
      ],
      "metadata": {
        "id": "bvXzeKbO6DmL"
      },
      "execution_count": null,
      "outputs": []
    }
  ]
}