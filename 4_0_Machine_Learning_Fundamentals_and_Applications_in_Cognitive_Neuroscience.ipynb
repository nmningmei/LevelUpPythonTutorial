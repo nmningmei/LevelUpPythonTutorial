{
  "nbformat": 4,
  "nbformat_minor": 0,
  "metadata": {
    "colab": {
      "name": "4.0. Machine Learning Fundamentals and Applications in Cognitive Neuroscience.ipynb",
      "provenance": [],
      "collapsed_sections": [],
      "toc_visible": true,
      "include_colab_link": true
    },
    "kernelspec": {
      "name": "python3",
      "display_name": "Python 3"
    }
  },
  "cells": [
    {
      "cell_type": "markdown",
      "metadata": {
        "id": "view-in-github",
        "colab_type": "text"
      },
      "source": [
        "<a href=\"https://colab.research.google.com/github/nmningmei/LevelUpPythonTutorial/blob/master/4_0_Machine_Learning_Fundamentals_and_Applications_in_Cognitive_Neuroscience.ipynb\" target=\"_parent\"><img src=\"https://colab.research.google.com/assets/colab-badge.svg\" alt=\"Open In Colab\"/></a>"
      ]
    },
    {
      "cell_type": "code",
      "metadata": {
        "id": "ayFX6KlbBcBo"
      },
      "source": [
        "from IPython.display import YouTubeVideo,Image"
      ],
      "execution_count": null,
      "outputs": []
    },
    {
      "cell_type": "markdown",
      "metadata": {
        "id": "mKSDsT7GHR6E"
      },
      "source": [
        "# What is machine learning?"
      ]
    },
    {
      "cell_type": "markdown",
      "metadata": {
        "id": "saGv5VpFLQLP"
      },
      "source": [
        "## Definition"
      ]
    },
    {
      "cell_type": "markdown",
      "metadata": {
        "id": "WqP3iBlgLT5G"
      },
      "source": [
        "Generally, machine learning is the field of study that gives computers the ability to learn without being explicitly programmed (Samuel, 1959).\n",
        "\n",
        "A computer program is said to learn from experience $E$  with respect to some class of tasks $T$ and performance measure $P$, if its performance at task in $T$, as measured by $P$, improves with experience $E$ (Michel, 1999)\n",
        "\n",
        "For example:\n",
        "- E exposure to a structured sequence\n",
        "- T is predicting the next element in the sequence\n",
        "- P is a measure of similarity between the predicted element and the true element"
      ]
    },
    {
      "cell_type": "markdown",
      "metadata": {
        "id": "jmZtHYCEaCrW"
      },
      "source": [
        "## Generally speaking\n",
        "\n",
        "Machine Learning is an umbrella term for many concepts and algorithms."
      ]
    },
    {
      "cell_type": "code",
      "metadata": {
        "id": "KS9kMobLM8CH",
        "colab": {
          "base_uri": "https://localhost:8080/",
          "height": 532
        },
        "outputId": "d9ab6932-67e4-4c1c-f8c2-41d4bdb69f4d"
      },
      "source": [
        "Image(url = 'https://i.redd.it/m2osa7zudpd41.jpg',width = 800)"
      ],
      "execution_count": null,
      "outputs": [
        {
          "output_type": "execute_result",
          "data": {
            "text/html": [
              "<img src=\"https://i.redd.it/m2osa7zudpd41.jpg\" width=\"800\"/>"
            ],
            "text/plain": [
              "<IPython.core.display.Image object>"
            ]
          },
          "metadata": {
            "tags": []
          },
          "execution_count": 12
        }
      ]
    },
    {
      "cell_type": "markdown",
      "metadata": {
        "id": "4EUx4tMCMJla"
      },
      "source": [
        "## Types of learning approaches"
      ]
    },
    {
      "cell_type": "markdown",
      "metadata": {
        "id": "iIzvnCPUMMOy"
      },
      "source": [
        "1. Supervised learning -- Labled data\n",
        "2. Unsupervised learning -- Unlabled data\n",
        "3. Semi-supervised learning -- Mixture of labled and unlabled data\n",
        "4. Reinforcement learning -- Implementation of rewards system (not commonly used in cognitive neurosience, but see https://onlinelibrary.wiley.com/doi/abs/10.1002/wcs.57)"
      ]
    },
    {
      "cell_type": "markdown",
      "metadata": {
        "id": "DVm8nzbtekXU"
      },
      "source": [
        "## A bit of terminology\n",
        "\n",
        "- <b>Training example/sample:</b> A row representing an observation/time point/participant\n",
        "- <b>Feature(s) ($X$):</b> Each column representing different attributes of the training example\n",
        "- <b>Target/Outcome ($y$):</b> What to predict\n",
        "- <b>Training:</b> Fitting a model to $X$ that attempts to reproduce $y$.\n",
        "- <b>Prediction ($ŷ$):</b> Result of passing a set of features ($x$) through a model (forward-pass)\n",
        "- <b>Loss:</b> Function that computes error by contrasting $y$ to $ŷ$\n",
        "- <b>Cost:</b> Overall cost for all training examples (defined as a function)\n",
        "<br><i>Note: Some authors use cost and loss interchangeably, and some with opposite definitions</i>\n",
        "- <b>Objective function ($E(x)$):</b> General term for a function that measures degree of error and can be optimized (maximized/minimized)\n",
        "- <b>Optimizer:</b> Algorithm to efficiently reach minimum or maximum of an objective function. To properly work on an objective function, it has to be continuously differentiably."
      ]
    },
    {
      "cell_type": "markdown",
      "metadata": {
        "id": "ocV6g_buqHQ5"
      },
      "source": [
        "## Practice"
      ]
    },
    {
      "cell_type": "markdown",
      "metadata": {
        "id": "zBV5nZ-_rKyb"
      },
      "source": [
        "Use any command in the following code cells to answer these questions:<br>\n",
        "1. How many training examples in the following dataset? -- the more the better\n",
        "2. How many features in the dataset? -- the less inter-correlated between them the better, and the more the better\n",
        "3. What is the target type? (continuous, discrete, categorical) -- what is your goal?\n",
        "4. Given this target, what would be the best approach from the ML perspective? (Classification or Regression)"
      ]
    },
    {
      "cell_type": "code",
      "metadata": {
        "id": "yHeGhn9SpD_V",
        "colab": {
          "base_uri": "https://localhost:8080/",
          "height": 206
        },
        "outputId": "9fcb425c-2646-4218-ab82-ec64f9aa617e"
      },
      "source": [
        "import numpy as np\n",
        "import pandas as pd\n",
        "from sklearn.datasets import load_boston\n",
        "\n",
        "data = load_boston()\n",
        "df = pd.DataFrame(data=np.c_[data['data'], data['target']],\n",
        "                  columns=list(data['feature_names'])+['target'])\n",
        "df.head()"
      ],
      "execution_count": null,
      "outputs": [
        {
          "output_type": "execute_result",
          "data": {
            "text/html": [
              "<div>\n",
              "<style scoped>\n",
              "    .dataframe tbody tr th:only-of-type {\n",
              "        vertical-align: middle;\n",
              "    }\n",
              "\n",
              "    .dataframe tbody tr th {\n",
              "        vertical-align: top;\n",
              "    }\n",
              "\n",
              "    .dataframe thead th {\n",
              "        text-align: right;\n",
              "    }\n",
              "</style>\n",
              "<table border=\"1\" class=\"dataframe\">\n",
              "  <thead>\n",
              "    <tr style=\"text-align: right;\">\n",
              "      <th></th>\n",
              "      <th>CRIM</th>\n",
              "      <th>ZN</th>\n",
              "      <th>INDUS</th>\n",
              "      <th>CHAS</th>\n",
              "      <th>NOX</th>\n",
              "      <th>RM</th>\n",
              "      <th>AGE</th>\n",
              "      <th>DIS</th>\n",
              "      <th>RAD</th>\n",
              "      <th>TAX</th>\n",
              "      <th>PTRATIO</th>\n",
              "      <th>B</th>\n",
              "      <th>LSTAT</th>\n",
              "      <th>target</th>\n",
              "    </tr>\n",
              "  </thead>\n",
              "  <tbody>\n",
              "    <tr>\n",
              "      <th>0</th>\n",
              "      <td>0.00632</td>\n",
              "      <td>18.0</td>\n",
              "      <td>2.31</td>\n",
              "      <td>0.0</td>\n",
              "      <td>0.538</td>\n",
              "      <td>6.575</td>\n",
              "      <td>65.2</td>\n",
              "      <td>4.0900</td>\n",
              "      <td>1.0</td>\n",
              "      <td>296.0</td>\n",
              "      <td>15.3</td>\n",
              "      <td>396.90</td>\n",
              "      <td>4.98</td>\n",
              "      <td>24.0</td>\n",
              "    </tr>\n",
              "    <tr>\n",
              "      <th>1</th>\n",
              "      <td>0.02731</td>\n",
              "      <td>0.0</td>\n",
              "      <td>7.07</td>\n",
              "      <td>0.0</td>\n",
              "      <td>0.469</td>\n",
              "      <td>6.421</td>\n",
              "      <td>78.9</td>\n",
              "      <td>4.9671</td>\n",
              "      <td>2.0</td>\n",
              "      <td>242.0</td>\n",
              "      <td>17.8</td>\n",
              "      <td>396.90</td>\n",
              "      <td>9.14</td>\n",
              "      <td>21.6</td>\n",
              "    </tr>\n",
              "    <tr>\n",
              "      <th>2</th>\n",
              "      <td>0.02729</td>\n",
              "      <td>0.0</td>\n",
              "      <td>7.07</td>\n",
              "      <td>0.0</td>\n",
              "      <td>0.469</td>\n",
              "      <td>7.185</td>\n",
              "      <td>61.1</td>\n",
              "      <td>4.9671</td>\n",
              "      <td>2.0</td>\n",
              "      <td>242.0</td>\n",
              "      <td>17.8</td>\n",
              "      <td>392.83</td>\n",
              "      <td>4.03</td>\n",
              "      <td>34.7</td>\n",
              "    </tr>\n",
              "    <tr>\n",
              "      <th>3</th>\n",
              "      <td>0.03237</td>\n",
              "      <td>0.0</td>\n",
              "      <td>2.18</td>\n",
              "      <td>0.0</td>\n",
              "      <td>0.458</td>\n",
              "      <td>6.998</td>\n",
              "      <td>45.8</td>\n",
              "      <td>6.0622</td>\n",
              "      <td>3.0</td>\n",
              "      <td>222.0</td>\n",
              "      <td>18.7</td>\n",
              "      <td>394.63</td>\n",
              "      <td>2.94</td>\n",
              "      <td>33.4</td>\n",
              "    </tr>\n",
              "    <tr>\n",
              "      <th>4</th>\n",
              "      <td>0.06905</td>\n",
              "      <td>0.0</td>\n",
              "      <td>2.18</td>\n",
              "      <td>0.0</td>\n",
              "      <td>0.458</td>\n",
              "      <td>7.147</td>\n",
              "      <td>54.2</td>\n",
              "      <td>6.0622</td>\n",
              "      <td>3.0</td>\n",
              "      <td>222.0</td>\n",
              "      <td>18.7</td>\n",
              "      <td>396.90</td>\n",
              "      <td>5.33</td>\n",
              "      <td>36.2</td>\n",
              "    </tr>\n",
              "  </tbody>\n",
              "</table>\n",
              "</div>"
            ],
            "text/plain": [
              "      CRIM    ZN  INDUS  CHAS    NOX  ...    TAX  PTRATIO       B  LSTAT  target\n",
              "0  0.00632  18.0   2.31   0.0  0.538  ...  296.0     15.3  396.90   4.98    24.0\n",
              "1  0.02731   0.0   7.07   0.0  0.469  ...  242.0     17.8  396.90   9.14    21.6\n",
              "2  0.02729   0.0   7.07   0.0  0.469  ...  242.0     17.8  392.83   4.03    34.7\n",
              "3  0.03237   0.0   2.18   0.0  0.458  ...  222.0     18.7  394.63   2.94    33.4\n",
              "4  0.06905   0.0   2.18   0.0  0.458  ...  222.0     18.7  396.90   5.33    36.2\n",
              "\n",
              "[5 rows x 14 columns]"
            ]
          },
          "metadata": {
            "tags": []
          },
          "execution_count": 2
        }
      ]
    },
    {
      "cell_type": "code",
      "metadata": {
        "id": "JXPFFcvQpzm5"
      },
      "source": [
        ""
      ],
      "execution_count": null,
      "outputs": []
    },
    {
      "cell_type": "markdown",
      "metadata": {
        "id": "UNvQIVl1OYQE"
      },
      "source": [
        "# Machine Learning: Just glorified statistics?"
      ]
    },
    {
      "cell_type": "markdown",
      "metadata": {
        "id": "RydAcBfHzBBU"
      },
      "source": [
        "Both ML and statistics can be used to perform hypothesis testing. While statistical inference tries to estimate population parameters from the data, ML tries to find generalizable predictive patterns (Bzdok, Altma, & Krzywinki, 2018)"
      ]
    },
    {
      "cell_type": "markdown",
      "metadata": {
        "id": "vOaUQtuvODMm"
      },
      "source": [
        "For example, to address the previous problem we could use a linear regression. Given:\n",
        "$$Y = \\alpha + \\beta \\cdot X + \\epsilon $$\n",
        "solve for $\\alpha$ and $\\beta$\n",
        "<br />where Y is experimental conditions, and X is behavioral/neural data\n",
        "\n",
        "<br>If the columns in matrix $X$ are independent, it has a unique solution, also called normal equation(s).\n",
        "$$\\beta = (X'X)^{-1}X'Y$$\n"
      ]
    },
    {
      "cell_type": "code",
      "metadata": {
        "id": "r7LvEjZEsYSk",
        "colab": {
          "base_uri": "https://localhost:8080/",
          "height": 86
        },
        "outputId": "7ccb1ae1-e535-45bb-f8b9-34f4e38d0ad4"
      },
      "source": [
        "X = df.iloc[:,:-1].values\n",
        "y = df.iloc[:,-1].values\n",
        "\n",
        "betas = np.dot(np.linalg.inv(np.dot(np.transpose(X), X)),\n",
        "                            np.dot(np.transpose(X), y))\n",
        "\n",
        "print(betas)"
      ],
      "execution_count": null,
      "outputs": [
        {
          "output_type": "stream",
          "text": [
            "[-9.28965170e-02  4.87149552e-02 -4.05997958e-03  2.85399882e+00\n",
            " -2.86843637e+00  5.92814778e+00 -7.26933458e-03 -9.68514157e-01\n",
            "  1.71151128e-01 -9.39621540e-03 -3.92190926e-01  1.49056102e-02\n",
            " -4.16304471e-01]\n"
          ],
          "name": "stdout"
        }
      ]
    },
    {
      "cell_type": "markdown",
      "metadata": {
        "id": "HjaAqc1-s7UQ"
      },
      "source": [
        "However, this is not always the case. Therefore both ML and statistic approach try to reduce the squared distance between predicted and observed values of Y. The objective function is RMSE and can be minimized using different estimators. One of the most widely used is OLS."
      ]
    },
    {
      "cell_type": "code",
      "metadata": {
        "id": "oFjDQiMot3V5",
        "colab": {
          "base_uri": "https://localhost:8080/",
          "height": 104
        },
        "outputId": "c3b5747c-d43f-4851-fd44-c5dfb057f43c"
      },
      "source": [
        "import statsmodels.api as sm\n",
        "\n",
        "model = sm.OLS(y, X).fit()\n",
        "print(model.params)\n",
        "\n",
        "print('Difference between the two models: ', \n",
        "      sum(x - y for x,y in zip(model.params, betas)))"
      ],
      "execution_count": null,
      "outputs": [
        {
          "output_type": "stream",
          "text": [
            "[-9.28965170e-02  4.87149552e-02 -4.05997958e-03  2.85399882e+00\n",
            " -2.86843637e+00  5.92814778e+00 -7.26933458e-03 -9.68514157e-01\n",
            "  1.71151128e-01 -9.39621540e-03 -3.92190926e-01  1.49056102e-02\n",
            " -4.16304471e-01]\n",
            "Difference between the two models:  4.9354895170772295e-12\n"
          ],
          "name": "stdout"
        }
      ]
    },
    {
      "cell_type": "markdown",
      "metadata": {
        "id": "mNUorGFzuqOZ"
      },
      "source": [
        "In statistics you care about the parameter values for each of the features. In ML, however you care about predicting unobserved data points (generalizing)."
      ]
    },
    {
      "cell_type": "code",
      "metadata": {
        "id": "BhTFZiUc1DAU",
        "colab": {
          "base_uri": "https://localhost:8080/",
          "height": 86
        },
        "outputId": "08f87960-1f6d-4b09-c2d5-508323d7889f"
      },
      "source": [
        "from sklearn.linear_model import LinearRegression\n",
        "\n",
        "reg = LinearRegression()\n",
        "reg.fit(X,y)\n",
        "print(reg.coef_)"
      ],
      "execution_count": null,
      "outputs": [
        {
          "output_type": "stream",
          "text": [
            "[-1.08011358e-01  4.64204584e-02  2.05586264e-02  2.68673382e+00\n",
            " -1.77666112e+01  3.80986521e+00  6.92224640e-04 -1.47556685e+00\n",
            "  3.06049479e-01 -1.23345939e-02 -9.52747232e-01  9.31168327e-03\n",
            " -5.24758378e-01]\n"
          ],
          "name": "stdout"
        }
      ]
    },
    {
      "cell_type": "markdown",
      "metadata": {
        "id": "ZFNRz_DJ2HhR"
      },
      "source": [
        "Why are the parameters different?\n",
        "<br><i>Hint: Intercept</i>\n",
        "\n",
        "<b>But how do we generalize this?</b>\n",
        "\n",
        "- Splitting data (train/dev/test)\n",
        "- Model selection and tuning"
      ]
    },
    {
      "cell_type": "code",
      "metadata": {
        "id": "g_xtAtVnAAf9",
        "colab": {
          "base_uri": "https://localhost:8080/",
          "height": 104
        },
        "outputId": "0b5c743b-5ca4-4248-ea30-cca843d86cad"
      },
      "source": [
        "from sklearn.linear_model import LinearRegression\n",
        "\n",
        "reg = LinearRegression(fit_intercept=False)\n",
        "reg.fit(X,y)\n",
        "print(reg.coef_)\n",
        "\n",
        "print('Difference between the two approaches: ', \n",
        "      sum(x - y for x,y in zip(reg.coef_,betas)))"
      ],
      "execution_count": null,
      "outputs": [
        {
          "output_type": "stream",
          "text": [
            "[-9.28965170e-02  4.87149552e-02 -4.05997958e-03  2.85399882e+00\n",
            " -2.86843637e+00  5.92814778e+00 -7.26933458e-03 -9.68514157e-01\n",
            "  1.71151128e-01 -9.39621540e-03 -3.92190926e-01  1.49056102e-02\n",
            " -4.16304471e-01]\n",
            "Difference between the two approaches:  4.926004916472326e-12\n"
          ],
          "name": "stdout"
        }
      ]
    },
    {
      "cell_type": "markdown",
      "metadata": {
        "id": "BZTki3MESd9k"
      },
      "source": [
        "# Splitting data"
      ]
    },
    {
      "cell_type": "markdown",
      "metadata": {
        "id": "wiTKWG_Y76q8"
      },
      "source": [
        "Important considerations:\n",
        "\n",
        "- Most common 80-20 splits\n",
        "- Splits should be on shuffled data\n",
        "- Possibility of not covering all labels\n",
        "- Large amounts of data are necessary"
      ]
    },
    {
      "cell_type": "code",
      "metadata": {
        "id": "26tuQfFV2lZQ",
        "colab": {
          "base_uri": "https://localhost:8080/",
          "height": 437
        },
        "outputId": "a49a08e9-e1ec-48fd-d3da-fb102eb9fe48"
      },
      "source": [
        "Image(url='https://miro.medium.com/max/948/1*4G__SV580CxFj78o9yUXuQ.png', width=800)"
      ],
      "execution_count": null,
      "outputs": [
        {
          "output_type": "execute_result",
          "data": {
            "text/html": [
              "<img src=\"https://miro.medium.com/max/948/1*4G__SV580CxFj78o9yUXuQ.png\" width=\"800\"/>"
            ],
            "text/plain": [
              "<IPython.core.display.Image object>"
            ]
          },
          "metadata": {
            "tags": []
          },
          "execution_count": 41
        }
      ]
    },
    {
      "cell_type": "markdown",
      "metadata": {
        "id": "TKtoI91x7nGz"
      },
      "source": [
        "More types of cross-validation to be covered in next meeting."
      ]
    },
    {
      "cell_type": "markdown",
      "metadata": {
        "id": "k7nObWjFhQuD"
      },
      "source": [
        "## For more info, take a look at this video"
      ]
    },
    {
      "cell_type": "code",
      "metadata": {
        "id": "1LQ2syInMgtt",
        "colab": {
          "base_uri": "https://localhost:8080/",
          "height": 321
        },
        "outputId": "c0176b2d-ba20-48eb-905f-cf3cee1146c4"
      },
      "source": [
        "YouTubeVideo('UX8OubxsY8w')"
      ],
      "execution_count": null,
      "outputs": [
        {
          "output_type": "execute_result",
          "data": {
            "text/html": [
              "\n",
              "        <iframe\n",
              "            width=\"400\"\n",
              "            height=\"300\"\n",
              "            src=\"https://www.youtube.com/embed/UX8OubxsY8w\"\n",
              "            frameborder=\"0\"\n",
              "            allowfullscreen\n",
              "        ></iframe>\n",
              "        "
            ],
            "text/plain": [
              "<IPython.lib.display.YouTubeVideo at 0x7f54b679e278>"
            ],
            "image/jpeg": "[encoded data removed]"
          },
          "metadata": {
            "tags": []
          },
          "execution_count": 10
        }
      ]
    },
    {
      "cell_type": "markdown",
      "metadata": {
        "id": "Gx6tr40nOcMx"
      },
      "source": [
        "## Hypothesis testing"
      ]
    },
    {
      "cell_type": "markdown",
      "metadata": {
        "id": "ijMFvWQ7OfUn"
      },
      "source": [
        "### [Difference between Prob(Data | Hypothesis) and Prba(Hypothesis | Data)](http://jakevdp.github.io/blog/2014/03/11/frequentism-and-bayesianism-a-practical-intro/)"
      ]
    },
    {
      "cell_type": "code",
      "metadata": {
        "id": "9kr76vG0O8p5",
        "colab": {
          "base_uri": "https://localhost:8080/",
          "height": 729
        },
        "outputId": "f27313ee-fc05-4476-e5fa-04819d01f722"
      },
      "source": [
        "Image(url = 'https://cxl.com/wp-content/uploads/2015/08/frequentists_vs_bayesians.png')"
      ],
      "execution_count": null,
      "outputs": [
        {
          "output_type": "execute_result",
          "data": {
            "text/html": [
              "<img src=\"https://cxl.com/wp-content/uploads/2015/08/frequentists_vs_bayesians.png\"/>"
            ],
            "text/plain": [
              "<IPython.core.display.Image object>"
            ]
          },
          "metadata": {
            "tags": []
          },
          "execution_count": 12
        }
      ]
    },
    {
      "cell_type": "markdown",
      "metadata": {
        "id": "sV_v2Kh0OtaA"
      },
      "source": [
        "#### Frequentists approach:\n",
        "$$P(D | H) = \\frac{P(H | D) \\cdot P(D)}{P(H)}$$\n",
        "\n",
        "It is intuitive and hueristically reasonable:\n",
        "\n",
        "1. I have some data samples, assuming normal distribution $\\rightarrow$ P(D)\n",
        "2. I have a hypothesis (mean != 0)\n",
        "3. I compare my samples against to an altervative hypothesis (mean = 0) $\\rightarrow$ P(H | D)\n",
        "4. I have got a p value of the altervative hypothesis, so , 1 - that $\\rightarrow$ p(H)\n",
        "\n",
        "But, do we want to know $P(D|H)?$"
      ]
    },
    {
      "cell_type": "markdown",
      "metadata": {
        "id": "uaz2cF6gQU8J"
      },
      "source": [
        "#### Bayesian approach:\n",
        "$$P(H|D) = \\frac{P(D|H) \\cdot P(H)}{P(D)}$$\n",
        "\n",
        "It is often counter-intuitive, but hueristically reasonable after it makes sense to you: \n",
        "\n",
        "1. I have some data samples, no assumption of its population distribution $\\rightarrow$ $P(D)$\n",
        "2. I have a hypothesis (mean != 0)\n",
        "3. I compute the likelihood of me getting the kind of data I have based on the hypothesis $\\rightarrow$ $P(D|H)$\n",
        "4. I don't have an alternative hypothesis, or at least it is not necessary\n",
        "5. I have some prior knowledge about how likely my hypothesis is $\\rightarrow$ $P(H)$\n",
        "6. I then can calculate $P(H|D)$ use the formula\n",
        "7. How the hell I calculate $P(D)$?"
      ]
    },
    {
      "cell_type": "markdown",
      "metadata": {
        "id": "PgUNN-17RcVK"
      },
      "source": [
        "#### Machine learning can be seen as an empirical approach of the untrackable Bayesian statistics\n",
        "\n",
        "1. Direct measure of $P(H | D)$\n",
        "2. hypothesis is defined by cross-validation method $\\rightarrow$ $P(H)$\n",
        "3. $P(D)$ is irrelevant\n",
        "4. $P(D|H)$ is computed by iterating through the data to look for so-called \"patterns\"\n",
        "5. $P(H|D)$ is represented by the cross-validation scores"
      ]
    },
    {
      "cell_type": "markdown",
      "metadata": {
        "id": "Irn5vZqbSkAj"
      },
      "source": [
        "## General working flow of machine learning:"
      ]
    },
    {
      "cell_type": "code",
      "metadata": {
        "id": "pGfUbi7KSstG",
        "colab": {
          "base_uri": "https://localhost:8080/",
          "height": 557
        },
        "outputId": "fc85b790-c9e1-4fda-f088-e4040f1908f8"
      },
      "source": [
        "Image(url = 'https://scikit-learn.org/stable/_images/grid_search_workflow.png',width = 800)"
      ],
      "execution_count": null,
      "outputs": [
        {
          "output_type": "execute_result",
          "data": {
            "text/html": [
              "<img src=\"https://scikit-learn.org/stable/_images/grid_search_workflow.png\" width=\"800\"/>"
            ],
            "text/plain": [
              "<IPython.core.display.Image object>"
            ]
          },
          "metadata": {
            "tags": []
          },
          "execution_count": 13
        }
      ]
    },
    {
      "cell_type": "markdown",
      "metadata": {
        "id": "9AHikI8aBEH1"
      },
      "source": [
        "## Cross-validation methods"
      ]
    },
    {
      "cell_type": "markdown",
      "metadata": {
        "id": "zPzm7dIZS2Wr"
      },
      "source": [
        "### K-folds"
      ]
    },
    {
      "cell_type": "code",
      "metadata": {
        "id": "7vS6n5xqS3f-",
        "colab": {
          "base_uri": "https://localhost:8080/",
          "height": 575
        },
        "outputId": "3e80889a-6a58-4966-a1d5-a52f0a576527"
      },
      "source": [
        "Image(url='https://scikit-learn.org/stable/_images/grid_search_cross_validation.png',width = 800)"
      ],
      "execution_count": null,
      "outputs": [
        {
          "output_type": "execute_result",
          "data": {
            "text/html": [
              "<img src=\"https://scikit-learn.org/stable/_images/grid_search_cross_validation.png\" width=\"800\"/>"
            ],
            "text/plain": [
              "<IPython.core.display.Image object>"
            ]
          },
          "metadata": {
            "tags": []
          },
          "execution_count": 14
        }
      ]
    },
    {
      "cell_type": "markdown",
      "metadata": {
        "id": "7P6x2hBYTX6v"
      },
      "source": [
        "### Leave one sample/group out -- LOO"
      ]
    },
    {
      "cell_type": "code",
      "metadata": {
        "id": "gCZ7EH5xTazg",
        "colab": {
          "base_uri": "https://localhost:8080/",
          "height": 542
        },
        "outputId": "10329b6f-e75f-4ea6-bd85-29b2d86f25df"
      },
      "source": [
        "Image(url = 'https://miro.medium.com/max/3520/1*AVVhcmOs7WCBnpNhqi-L6g.png',width = 800)"
      ],
      "execution_count": null,
      "outputs": [
        {
          "output_type": "execute_result",
          "data": {
            "text/html": [
              "<img src=\"https://miro.medium.com/max/3520/1*AVVhcmOs7WCBnpNhqi-L6g.png\" width=\"800\"/>"
            ],
            "text/plain": [
              "<IPython.core.display.Image object>"
            ]
          },
          "metadata": {
            "tags": []
          },
          "execution_count": 15
        }
      ]
    },
    {
      "cell_type": "markdown",
      "metadata": {
        "id": "8goDxXlxTtck"
      },
      "source": [
        "### Stratified split -- take care of unbalanced classes"
      ]
    },
    {
      "cell_type": "code",
      "metadata": {
        "id": "1QX8JWXJTy7u",
        "colab": {
          "base_uri": "https://localhost:8080/",
          "height": 692
        },
        "outputId": "cadea101-335d-44c6-cc1f-4558e25e6fd6"
      },
      "source": [
        "Image(url = 'https://miro.medium.com/max/1463/1*TuWV2i98KmBxX5qkz_gX9g.png',width = 800)"
      ],
      "execution_count": null,
      "outputs": [
        {
          "output_type": "execute_result",
          "data": {
            "text/html": [
              "<img src=\"https://miro.medium.com/max/1463/1*TuWV2i98KmBxX5qkz_gX9g.png\" width=\"800\"/>"
            ],
            "text/plain": [
              "<IPython.core.display.Image object>"
            ]
          },
          "metadata": {
            "tags": []
          },
          "execution_count": 16
        }
      ]
    },
    {
      "cell_type": "markdown",
      "metadata": {
        "id": "-gJOIjBBT1sm"
      },
      "source": [
        "### Time series cross validation"
      ]
    },
    {
      "cell_type": "code",
      "metadata": {
        "id": "bF-U5NCuT7hJ",
        "colab": {
          "base_uri": "https://localhost:8080/",
          "height": 411
        },
        "outputId": "dc5ade76-054d-4d57-f265-d067aec04f07"
      },
      "source": [
        "Image(url = 'https://miro.medium.com/max/1703/1*WMJCAkveTgbdBveMMMZtUg.png',width = 800)"
      ],
      "execution_count": null,
      "outputs": [
        {
          "output_type": "execute_result",
          "data": {
            "text/html": [
              "<img src=\"https://miro.medium.com/max/1703/1*WMJCAkveTgbdBveMMMZtUg.png\" width=\"800\"/>"
            ],
            "text/plain": [
              "<IPython.core.display.Image object>"
            ]
          },
          "metadata": {
            "tags": []
          },
          "execution_count": 17
        }
      ]
    },
    {
      "cell_type": "markdown",
      "metadata": {
        "id": "YqtASa9TUMzJ"
      },
      "source": [
        "### for more: [redirect to scikit-learn](https://scikit-learn.org/stable/modules/cross_validation.html#k-fold)"
      ]
    },
    {
      "cell_type": "markdown",
      "metadata": {
        "id": "wPufWlxOUipe"
      },
      "source": [
        "# Machine learning in behavioral studies\n",
        "\n",
        "[Similar history biases for distinct prospective decisions of self-performance](https://github.com/nmningmei/metacognition)"
      ]
    },
    {
      "cell_type": "markdown",
      "metadata": {
        "id": "V1n4LICVU3Mh"
      },
      "source": [
        "# Machine learning in EEG \n",
        "\n",
        "[A working memeory study](https://github.com/nmningmei/VCRT_study)"
      ]
    },
    {
      "cell_type": "markdown",
      "metadata": {
        "id": "4uIzQFYhVMkb"
      },
      "source": [
        "# Machine learning in fMRI\n",
        "\n",
        "[word processing](https://github.com/nmningmei/METASEMA_encoding_model)"
      ]
    },
    {
      "cell_type": "code",
      "metadata": {
        "id": "JqJhwL547H9v"
      },
      "source": [
        ""
      ],
      "execution_count": null,
      "outputs": []
    }
  ]
}